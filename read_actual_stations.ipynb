{
 "cells": [
  {
   "cell_type": "code",
   "execution_count": null,
   "metadata": {},
   "outputs": [],
   "source": [
    "import pandas as pd\n",
    "pd.options.display.max_rows = 999"
   ]
  },
  {
   "cell_type": "code",
   "execution_count": null,
   "metadata": {},
   "outputs": [],
   "source": [
    "# !curl --insecure 'https://dcc5.modext.ru:8088/dataserver/api/v2/sources/list' --header 'X-Ticket: ST-test' --header 'Content-Type: application/json' --data '{\"urn\": [\"RHM-DATA-HMC-FORECAST\"]}'"
   ]
  },
  {
   "cell_type": "code",
   "execution_count": null,
   "metadata": {},
   "outputs": [],
   "source": [
    "# !curl --insecure 'https://dcc5.modext.ru:8088/dataserver/api/v2/sources/list'\\\n",
    "#     --header 'X-Ticket: ST-test' --header 'Content-Type: application/json'"
   ]
  },
  {
   "cell_type": "code",
   "execution_count": null,
   "metadata": {},
   "outputs": [],
   "source": [
    "# !curl --insecure 'https://dcc5.modext.ru:8088/dataserver/api/v2/sources/list'\\\n",
    "#     --header 'X-Ticket: ST-test' --header 'Content-Type: application/json' \\\n",
    "#         --data '{\"urn\": [\"RHM-IS-CLIWARE.synop_all\"]}'"
   ]
  },
  {
   "cell_type": "code",
   "execution_count": null,
   "metadata": {},
   "outputs": [],
   "source": [
    "# cmd_str = \"--insecure 'https://dcc5.modext.ru:8088/dataserver/api/v2/sources/list' --header 'X-Ticket: ST-test' --header \"\n",
    "# sub_cmd_3 = f\"--data '{\"urn\": [\"RHM-IS-CLIWARE.synop_all\"]}'\""
   ]
  },
  {
   "cell_type": "code",
   "execution_count": null,
   "metadata": {},
   "outputs": [],
   "source": [
    "json_data = {\n",
    "    \"urn\": [\"RHM-DATA-HMC-FORECAST\"]\n",
    "    }\n",
    "\n",
    "headers = {\n",
    "    'X-Ticket': 'ST-test',\n",
    "    'Content-Type': 'application/json'\n",
    "}"
   ]
  },
  {
   "cell_type": "code",
   "execution_count": null,
   "metadata": {},
   "outputs": [],
   "source": [
    "import requests\n",
    "# result = requests.get(\n",
    "#     \"https://dcc5.modext.ru:8088/dataserver/api/v2/sources/list\",\n",
    "#     headers=headers,\n",
    "#     json = json_data,\n",
    "#     # cert='--insecure',\n",
    "#     verify=False,\n",
    "# ).json()\n",
    "result = requests.post(\n",
    "    \"https://dcc5.modext.ru:8088/dataserver/api/v2/sources/list\",\n",
    "    headers=headers,\n",
    "    json = json_data,\n",
    "    # cert='--insecure',\n",
    "    verify=False,\n",
    ").json()"
   ]
  },
  {
   "cell_type": "code",
   "execution_count": null,
   "metadata": {},
   "outputs": [],
   "source": [
    "# result['response']"
   ]
  },
  {
   "cell_type": "code",
   "execution_count": null,
   "metadata": {},
   "outputs": [],
   "source": [
    "result.keys()"
   ]
  },
  {
   "cell_type": "code",
   "execution_count": null,
   "metadata": {},
   "outputs": [],
   "source": [
    "result['meta']"
   ]
  },
  {
   "cell_type": "code",
   "execution_count": null,
   "metadata": {},
   "outputs": [],
   "source": [
    "result['response']['sources']['items'][-1]['loc']"
   ]
  },
  {
   "cell_type": "code",
   "execution_count": null,
   "metadata": {},
   "outputs": [],
   "source": [
    "actual_stations = [[item['name'], item['src']['index'], item['loc']['lat'], item['loc']['lon']] for item in result['response']['sources']['items'] if 'loc' in item.keys()]\n",
    "# actual_stations = sorted(actual_stations)\n",
    "len(actual_stations)"
   ]
  },
  {
   "cell_type": "code",
   "execution_count": null,
   "metadata": {},
   "outputs": [],
   "source": [
    "actual_stations[:2]"
   ]
  },
  {
   "cell_type": "code",
   "execution_count": null,
   "metadata": {},
   "outputs": [],
   "source": [
    "df = pd.DataFrame(actual_stations)\n",
    "df.columns = ['name', 'sis', 'lat', 'lon']\n",
    "df"
   ]
  },
  {
   "cell_type": "code",
   "execution_count": null,
   "metadata": {},
   "outputs": [],
   "source": [
    "df.shape"
   ]
  },
  {
   "cell_type": "code",
   "execution_count": null,
   "metadata": {},
   "outputs": [],
   "source": [
    "# df[df['sis']==27625]"
   ]
  },
  {
   "cell_type": "code",
   "execution_count": null,
   "metadata": {},
   "outputs": [],
   "source": [
    "df.to_parquet('./stations/actual_stations.parquet')"
   ]
  },
  {
   "cell_type": "code",
   "execution_count": null,
   "metadata": {},
   "outputs": [],
   "source": [
    "df_act_test = pd.read_parquet('./stations/actual_stations.parquet')\n",
    "df_act_test.head()"
   ]
  },
  {
   "cell_type": "code",
   "execution_count": null,
   "metadata": {},
   "outputs": [],
   "source": [
    "df.shape"
   ]
  },
  {
   "cell_type": "code",
   "execution_count": null,
   "metadata": {},
   "outputs": [],
   "source": []
  }
 ],
 "metadata": {
  "kernelspec": {
   "display_name": "gis_env",
   "language": "python",
   "name": "python3"
  },
  "language_info": {
   "codemirror_mode": {
    "name": "ipython",
    "version": 3
   },
   "file_extension": ".py",
   "mimetype": "text/x-python",
   "name": "python",
   "nbconvert_exporter": "python",
   "pygments_lexer": "ipython3",
   "version": "3.10.9"
  },
  "orig_nbformat": 4
 },
 "nbformat": 4,
 "nbformat_minor": 2
}
