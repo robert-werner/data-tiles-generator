{
 "cells": [
  {
   "cell_type": "code",
   "execution_count": 1,
   "metadata": {},
   "outputs": [],
   "source": [
    "import pandas as pd\n",
    "import numpy as np\n",
    "import matplotlib.pyplot as plt\n",
    "from mpl_toolkits.basemap import Basemap\n",
    "from PIL import Image, ImageDraw\n",
    "import os\n",
    "from tqdm import tqdm\n",
    "pd.options.display.max_rows = 100\n",
    "pd.options.display.max_columns = 100"
   ]
  },
  {
   "cell_type": "code",
   "execution_count": 2,
   "metadata": {},
   "outputs": [
    {
     "data": {
      "text/html": [
       "<div>\n",
       "<style scoped>\n",
       "    .dataframe tbody tr th:only-of-type {\n",
       "        vertical-align: middle;\n",
       "    }\n",
       "\n",
       "    .dataframe tbody tr th {\n",
       "        vertical-align: top;\n",
       "    }\n",
       "\n",
       "    .dataframe thead th {\n",
       "        text-align: right;\n",
       "    }\n",
       "</style>\n",
       "<table border=\"1\" class=\"dataframe\">\n",
       "  <thead>\n",
       "    <tr style=\"text-align: right;\">\n",
       "      <th></th>\n",
       "      <th>name</th>\n",
       "      <th>sis</th>\n",
       "      <th>lat</th>\n",
       "      <th>lon</th>\n",
       "    </tr>\n",
       "  </thead>\n",
       "  <tbody>\n",
       "    <tr>\n",
       "      <th>0</th>\n",
       "      <td>Фуглойкалвен фьорд</td>\n",
       "      <td>1034</td>\n",
       "      <td>70.31700</td>\n",
       "      <td>20.15000</td>\n",
       "    </tr>\n",
       "    <tr>\n",
       "      <th>1</th>\n",
       "      <td>Торсваг фьорд</td>\n",
       "      <td>1033</td>\n",
       "      <td>70.24556</td>\n",
       "      <td>19.50028</td>\n",
       "    </tr>\n",
       "    <tr>\n",
       "      <th>2</th>\n",
       "      <td>Верхнедвинск</td>\n",
       "      <td>26554</td>\n",
       "      <td>55.82083</td>\n",
       "      <td>27.94000</td>\n",
       "    </tr>\n",
       "    <tr>\n",
       "      <th>3</th>\n",
       "      <td>Полоцк</td>\n",
       "      <td>26653</td>\n",
       "      <td>55.47472</td>\n",
       "      <td>28.75167</td>\n",
       "    </tr>\n",
       "    <tr>\n",
       "      <th>4</th>\n",
       "      <td>Шарковщина</td>\n",
       "      <td>26643</td>\n",
       "      <td>55.36306</td>\n",
       "      <td>27.45667</td>\n",
       "    </tr>\n",
       "  </tbody>\n",
       "</table>\n",
       "</div>"
      ],
      "text/plain": [
       "                 name    sis       lat       lon\n",
       "0  Фуглойкалвен фьорд   1034  70.31700  20.15000\n",
       "1       Торсваг фьорд   1033  70.24556  19.50028\n",
       "2        Верхнедвинск  26554  55.82083  27.94000\n",
       "3              Полоцк  26653  55.47472  28.75167\n",
       "4          Шарковщина  26643  55.36306  27.45667"
      ]
     },
     "execution_count": 2,
     "metadata": {},
     "output_type": "execute_result"
    }
   ],
   "source": [
    "actual_st = pd.read_parquet(\"./stations/actual_stations.parquet\")\n",
    "actual_st['sis'] = actual_st['sis'].astype(int)\n",
    "all_st = pd.read_parquet(\"./stations/all_stations.parquet\")\n",
    "all_st['sis'] = all_st['sis'].astype(int)\n",
    "df_merge = pd.merge(actual_st, all_st, on='sis')\n",
    "df_merge['lon_y'] = df_merge['lon_y'].replace(',', '.', regex=True).astype('float')\n",
    "# actual_st['lon_e'] = actual_st['lon_y'].apply(lambda x: x if x>0 else x+360)\n",
    "df_merge['lat_y'] = df_merge['lat_y'].replace(',', '.', regex=True).astype('float')\n",
    "df_merge['diff_lat'] = df_merge['lat_x'] - df_merge['lat_y']\n",
    "df_merge['diff_lon'] = df_merge['lon_x'] - df_merge['lon_y']\n",
    "# actual_st = actual_st[actual_st.columns.to_list()[]]\n",
    "actual_st = actual_st.sort_values(by=['lat'], ascending=False)\n",
    "df_merge = df_merge.sort_values(by=['lat_x'], ascending=False)\n",
    "actual_st.reset_index(drop=True, inplace=True)\n",
    "actual_st.head()"
   ]
  },
  {
   "cell_type": "code",
   "execution_count": 3,
   "metadata": {},
   "outputs": [
    {
     "data": {
      "text/html": [
       "<div>\n",
       "<style scoped>\n",
       "    .dataframe tbody tr th:only-of-type {\n",
       "        vertical-align: middle;\n",
       "    }\n",
       "\n",
       "    .dataframe tbody tr th {\n",
       "        vertical-align: top;\n",
       "    }\n",
       "\n",
       "    .dataframe thead th {\n",
       "        text-align: right;\n",
       "    }\n",
       "</style>\n",
       "<table border=\"1\" class=\"dataframe\">\n",
       "  <thead>\n",
       "    <tr style=\"text-align: right;\">\n",
       "      <th></th>\n",
       "      <th>name</th>\n",
       "      <th>sis</th>\n",
       "      <th>lat</th>\n",
       "      <th>lon</th>\n",
       "      <th>name_en</th>\n",
       "      <th>country</th>\n",
       "    </tr>\n",
       "  </thead>\n",
       "  <tbody>\n",
       "    <tr>\n",
       "      <th>2</th>\n",
       "      <td>Фуглойкалвен фьорд</td>\n",
       "      <td>1034</td>\n",
       "      <td>70.31700</td>\n",
       "      <td>20.2</td>\n",
       "      <td>Fugloykalven Fyr</td>\n",
       "      <td>Norway</td>\n",
       "    </tr>\n",
       "    <tr>\n",
       "      <th>1</th>\n",
       "      <td>Торсваг фьорд</td>\n",
       "      <td>1033</td>\n",
       "      <td>70.24556</td>\n",
       "      <td>19.5</td>\n",
       "      <td>Torsvag Fyr</td>\n",
       "      <td>Norway</td>\n",
       "    </tr>\n",
       "    <tr>\n",
       "      <th>35</th>\n",
       "      <td>Верхнедвинск</td>\n",
       "      <td>26554</td>\n",
       "      <td>55.82083</td>\n",
       "      <td>27.9</td>\n",
       "      <td>Верхнедвинск</td>\n",
       "      <td>Беларусь</td>\n",
       "    </tr>\n",
       "    <tr>\n",
       "      <th>38</th>\n",
       "      <td>Полоцк</td>\n",
       "      <td>26653</td>\n",
       "      <td>55.47472</td>\n",
       "      <td>28.8</td>\n",
       "      <td>Полоцк</td>\n",
       "      <td>Беларусь</td>\n",
       "    </tr>\n",
       "    <tr>\n",
       "      <th>34</th>\n",
       "      <td>Шарковщина</td>\n",
       "      <td>26643</td>\n",
       "      <td>55.36306</td>\n",
       "      <td>27.5</td>\n",
       "      <td>Шарковщина</td>\n",
       "      <td>Беларусь</td>\n",
       "    </tr>\n",
       "  </tbody>\n",
       "</table>\n",
       "</div>"
      ],
      "text/plain": [
       "                  name    sis       lat   lon           name_en   country\n",
       "2   Фуглойкалвен фьорд   1034  70.31700  20.2  Fugloykalven Fyr    Norway\n",
       "1        Торсваг фьорд   1033  70.24556  19.5       Torsvag Fyr    Norway\n",
       "35        Верхнедвинск  26554  55.82083  27.9      Верхнедвинск  Беларусь\n",
       "38              Полоцк  26653  55.47472  28.8            Полоцк  Беларусь\n",
       "34          Шарковщина  26643  55.36306  27.5        Шарковщина  Беларусь"
      ]
     },
     "execution_count": 3,
     "metadata": {},
     "output_type": "execute_result"
    }
   ],
   "source": [
    "df_merge = df_merge[['name_x', 'sis', 'lat_x', 'lon_y', 'name_y', 'country']]\n",
    "df_merge.columns = ['name', 'sis', 'lat', 'lon', 'name_en', 'country']\n",
    "df_merge.head()\n"
   ]
  },
  {
   "cell_type": "code",
   "execution_count": 4,
   "metadata": {},
   "outputs": [],
   "source": [
    "actual_st = df_merge"
   ]
  },
  {
   "cell_type": "code",
   "execution_count": 5,
   "metadata": {},
   "outputs": [],
   "source": [
    "# actual_st"
   ]
  },
  {
   "cell_type": "code",
   "execution_count": 6,
   "metadata": {},
   "outputs": [],
   "source": [
    "# lon = actual_st['lon'].values\n",
    "# lat = actual_st['lat'].values\n",
    "# lon[:2], lat[:2]"
   ]
  },
  {
   "cell_type": "code",
   "execution_count": 7,
   "metadata": {},
   "outputs": [],
   "source": [
    "# lon.max(), lon.mean(), lon.min(), (lon.max()+lon.min())/2"
   ]
  },
  {
   "cell_type": "code",
   "execution_count": 8,
   "metadata": {},
   "outputs": [],
   "source": [
    "# margin = 0\n",
    "# FIGDPI = 100\n",
    "# lons_min = lon.min() - margin\n",
    "# lons_max = lon.max() + margin if lon.max() < 180 else lon.max()\n",
    "# lats_min = lat.min() - margin\n",
    "# lats_max = lat.max() + margin\n",
    "# lons_min, lons_max, lats_min, lats_max"
   ]
  },
  {
   "cell_type": "code",
   "execution_count": 9,
   "metadata": {},
   "outputs": [],
   "source": [
    "# TODO Rename this here and in `draw_map`\n",
    "def _extracted_from_draw_map_19(m, \n",
    "                                projection, \n",
    "                                zoom,\n",
    "                                lat,\n",
    "                                lon,\n",
    "                                tile,\n",
    "                                slice_tile,\n",
    "                                img_write=False,\n",
    "                                plot_scatter=False,\n",
    "                                names=[]\n",
    "                                ):\n",
    "        plt.rcParams['figure.dpi'] = 100\n",
    "        # # plt.rcParams['figure.figsize'] = (10.24, 10.24)\n",
    "        # plt.rcParams['figure.figsize'] = (5.12 * zoom, 5.12 * zoom)\n",
    "        plt.rcParams['figure.figsize'] = (12,12)\n",
    "        # plt.subplots_adjust(top = 1, bottom = 0, right = 1, left = 0, \n",
    "        #     hspace = 0, wspace = 0)\n",
    "        # plt.margins(0,0)\n",
    "        plt.axis('off')\n",
    "        # m.drawcoastlines(linewidth=0.5, color='blue')\n",
    "        # m.fillcontinents(color='gray', lake_color='aqua')\n",
    "        # m.drawcountries(linewidth=1, color='red')\n",
    "\n",
    "        # m.drawmapboundary(fill_color='aqua')\n",
    "        # m.fillcontinents(color='gray',lake_color='white',zorder=2)\n",
    "        # m.fillcontinents(color='gray',lake_color=None, zorder=1)\n",
    "        # m.fillcontinents(color='coral',lake_color='white')\n",
    "        m.drawlsmask(land_color='gray', ocean_color='white', lakes=True)\n",
    "        # m.drawcountries(zorder=2)\n",
    "        # m.drawcoastlines()\n",
    "        \n",
    "        # m.drawmapboundary(fill_color='aqua')\n",
    "        # m.drawparallels(np.arange(-90., 91., 15.))\n",
    "        # m.drawmeridians(np.arange(-180., 181., 30.))\n",
    "        # m.shadedrelief()\n",
    "        # print(f\"LON_LAT: {lon[0], lat[0]}\")\n",
    "        lons, lats = m(lon, lat, \n",
    "                #        inverse=True\n",
    "                       )\n",
    "        # print(lons[0], lats[0])\n",
    "        if plot_scatter:\n",
    "                # print('Plot Scatter')\n",
    "                # print(lon)\n",
    "                # print(lat)\n",
    "                x, y = m(lon, lat, \n",
    "                        #        inverse=True\n",
    "                               )        \n",
    "                m.scatter(x, y, \n",
    "                          marker = 'o', \n",
    "                          color='r', \n",
    "                          zorder=1, \n",
    "                          label=1,\n",
    "                          s=zoom+1\n",
    "                          )\n",
    "                # plt.title(names)\n",
    "        # if projection=='merc':\n",
    "        #     plt.title(\"Mercator Projection\")\n",
    "        # #     plt.show()\n",
    "        # elif projection=='npstere':\n",
    "        #     plt.title(\"North Pole Projection\")\n",
    "        # #     plt.show()\n",
    "        if img_write==True:\n",
    "                os.makedirs(f'./tiles/{projection}/{tile}/', exist_ok=True)\n",
    "                plt.savefig(\n",
    "                        f'./tiles/{projection}/{tile}/{slice_tile}.png', \n",
    "                        bbox_inches='tight', \n",
    "                        pad_inches = 0,\n",
    "                        dpi=100\n",
    "                        )\n",
    "                \n",
    "                plt.close()\n",
    "                plt.clf()\n",
    "                \n",
    "        return m\n",
    "def draw_map(\n",
    "        lats_min=-80,\n",
    "        lats_max=80,\n",
    "        lons_min=-180,\n",
    "        lons_max=180,\n",
    "        resolution='i',\n",
    "        projection='merc',\n",
    "        zoom=1,\n",
    "        lat=[0],\n",
    "        lon=[0],\n",
    "        tile='0',\n",
    "        slice_tile='0',\n",
    "        img_write=False,\n",
    "        plot_scatter=False,\n",
    "        names=[]\n",
    "        ):        \n",
    "        # fig = plt.gcf()\n",
    "        # fig.get_size_inches()\n",
    "        # fig.dpi\n",
    "        \n",
    "        # plt.rcParams['figure.dpi'] = 100\n",
    "        # plt.rcParams['figure.figsize'] = (2.56 * zoom, 2.56 * zoom)\n",
    "        \n",
    "        plt.subplots_adjust(top = 1, bottom = 0, right = 1, left = 0, \n",
    "            hspace = 0, wspace = 0)\n",
    "        plt.margins(0,0)\n",
    "        if projection=='merc':\n",
    "                m = Basemap(\n",
    "                        projection=projection,\n",
    "                        llcrnrlat=lats_min,\n",
    "                        urcrnrlat=lats_max,\n",
    "                        llcrnrlon=lons_min,\n",
    "                        urcrnrlon=lons_max,\n",
    "                        lat_ts=0,\n",
    "                        resolution=resolution,\n",
    "                        )\n",
    "                return _extracted_from_draw_map_19(m, \n",
    "                                                   projection, \n",
    "                                                   zoom,\n",
    "                                                   lat, lon,\n",
    "                                                   tile, slice_tile, \n",
    "                                                   img_write=img_write,\n",
    "                                                   plot_scatter=plot_scatter,\n",
    "                                                   names=names\n",
    "                                                   )\n",
    "        elif projection=='npstere':\n",
    "                m = Basemap(\n",
    "                        projection='npstere',\n",
    "                        resolution=resolution,\n",
    "                        lon_0=0.,\n",
    "                        boundinglat=10,                       \n",
    "                )\n",
    "                return _extracted_from_draw_map_19(m, projection, zoom,\n",
    "                                                   lat, lon,\n",
    "                                                   tile, slice_tile, \n",
    "                                                   img_write=img_write,\n",
    "                                                   plot_scatter=plot_scatter,\n",
    "                                                   names=names\n",
    "                                                   )"
   ]
  },
  {
   "cell_type": "code",
   "execution_count": 10,
   "metadata": {},
   "outputs": [
    {
     "data": {
      "text/plain": [
       "(40, 20)"
      ]
     },
     "execution_count": 10,
     "metadata": {},
     "output_type": "execute_result"
    }
   ],
   "source": [
    "int(320/8), int(160/8)"
   ]
  },
  {
   "cell_type": "code",
   "execution_count": 21,
   "metadata": {},
   "outputs": [
    {
     "data": {
      "text/plain": [
       "(20, 80)"
      ]
     },
     "execution_count": 21,
     "metadata": {},
     "output_type": "execute_result"
    }
   ],
   "source": [
    "tile = 3\n",
    "if tile == 3:\n",
    "    step_x, step_y = int(360/8), int(160/8)\n",
    "    step_y = 80\n",
    "    step_x = 20\n",
    "step_x, step_y"
   ]
  },
  {
   "cell_type": "code",
   "execution_count": 22,
   "metadata": {},
   "outputs": [
    {
     "data": {
      "text/plain": [
       "(70.317, 38.45)"
      ]
     },
     "execution_count": 22,
     "metadata": {},
     "output_type": "execute_result"
    }
   ],
   "source": [
    "actual_st['lat'].max(), actual_st['lat'].min()"
   ]
  },
  {
   "cell_type": "code",
   "execution_count": 23,
   "metadata": {},
   "outputs": [
    {
     "data": {
      "text/plain": [
       "(78.7, 19.5)"
      ]
     },
     "execution_count": 23,
     "metadata": {},
     "output_type": "execute_result"
    }
   ],
   "source": [
    "actual_st['lon'].max(), actual_st['lon'].min()"
   ]
  },
  {
   "cell_type": "code",
   "execution_count": 24,
   "metadata": {},
   "outputs": [],
   "source": [
    "resolution = 'h'\n",
    "latmin = 80."
   ]
  },
  {
   "cell_type": "code",
   "execution_count": 25,
   "metadata": {},
   "outputs": [
    {
     "name": "stderr",
     "output_type": "stream",
     "text": [
      "100%|██████████| 19/19 [06:36<00:00, 20.85s/it]\n"
     ]
    }
   ],
   "source": [
    "i=0\n",
    "for tile_x in tqdm(range(0, 361, step_x)):\n",
    "# for tile_y in reversed(range(0, 80, step_y)):\n",
    "    # print('*******************************************')\n",
    "    df = actual_st[(actual_st['lon'] >= tile_x)\\\n",
    "        & (actual_st['lon'] < tile_x+step_x)\\\n",
    "            & (actual_st['lat'] >= 0)\\\n",
    "                & (actual_st['lat'] < latmin)]\n",
    "    # print(f\"df.shape={df.shape}\")\n",
    "    st_lats_lons = df.loc[:, ['lat', 'lon']].values\n",
    "    # print(f\"st_lats_lons={st_lats_lons.shape}\")\n",
    "    names = df['name'].to_list()\n",
    "    # print(names)\n",
    "    # print(f\"{i} : lon0={tile_x} lon1={tile_x+step_x} lat0={tile_y} lat1={tile_y+step_y}\")\n",
    "    if st_lats_lons.shape[0] > 0:\n",
    "        # print(st_lats_lons.shape)\n",
    "        map_ = draw_map(\n",
    "            lats_min = int(0),\n",
    "            lats_max = int(latmin),\n",
    "            lons_min = int(tile_x),\n",
    "            lons_max = int(step_x + tile_x),\n",
    "            projection='merc',\n",
    "            resolution = resolution,\n",
    "            zoom=1,\n",
    "            lat=st_lats_lons[:,0],\n",
    "            lon=st_lats_lons[:,1],\n",
    "            tile=str(tile),\n",
    "            slice_tile=str(i),\n",
    "            img_write=True,\n",
    "                plot_scatter=True,\n",
    "                # names=names\n",
    "            )\n",
    "    elif st_lats_lons.shape[0] == 0:\n",
    "        map_ = draw_map(\n",
    "            lats_min = int(0.),\n",
    "            lats_max = int(latmin),\n",
    "            lons_min = int(tile_x),\n",
    "            lons_max = int(step_x + tile_x),\n",
    "            projection='merc',\n",
    "            resolution = resolution,\n",
    "            zoom=1,\n",
    "            lat=[],\n",
    "            lon=[],\n",
    "            tile=str(tile),\n",
    "            slice_tile=str(i),\n",
    "            img_write=True,\n",
    "            plot_scatter=False,\n",
    "        )\n",
    "    i += 1\n",
    "\n",
    "del map_ \n",
    "del st_lats_lons\n",
    "plt.clf()\n",
    "plt.close()"
   ]
  },
  {
   "cell_type": "code",
   "execution_count": 26,
   "metadata": {},
   "outputs": [
    {
     "name": "stdout",
     "output_type": "stream",
     "text": [
      "(171, 1200)\n",
      "(171, 1200)\n",
      "(171, 1200)\n",
      "(171, 1200)\n",
      "(171, 1200)\n",
      "(171, 1200)\n",
      "(171, 1200)\n",
      "(171, 1200)\n",
      "(171, 1200)\n",
      "(171, 1200)\n",
      "(171, 1200)\n",
      "(171, 1200)\n",
      "(171, 1200)\n",
      "(171, 1200)\n",
      "(171, 1200)\n",
      "(171, 1200)\n",
      "(171, 1200)\n",
      "(171, 1200)\n",
      "(171, 1200)\n"
     ]
    }
   ],
   "source": [
    "import pathlib\n",
    "tiles_files = sorted([str(i) for i in pathlib.Path(\"./tiles/\").glob('**/*.png')])\n",
    "for i in tiles_files:\n",
    "    img = Image.open(i)\n",
    "    print(img.size)"
   ]
  },
  {
   "cell_type": "code",
   "execution_count": 19,
   "metadata": {},
   "outputs": [
    {
     "data": {
      "text/plain": [
       "2.5"
      ]
     },
     "execution_count": 19,
     "metadata": {},
     "output_type": "execute_result"
    }
   ],
   "source": [
    "1200/480"
   ]
  },
  {
   "cell_type": "code",
   "execution_count": 20,
   "metadata": {},
   "outputs": [
    {
     "data": {
      "text/plain": [
       "2.5036496350364965"
      ]
     },
     "execution_count": 20,
     "metadata": {},
     "output_type": "execute_result"
    }
   ],
   "source": [
    "343/137"
   ]
  },
  {
   "cell_type": "code",
   "execution_count": null,
   "metadata": {},
   "outputs": [],
   "source": []
  }
 ],
 "metadata": {
  "kernelspec": {
   "display_name": "gis_env",
   "language": "python",
   "name": "python3"
  },
  "language_info": {
   "codemirror_mode": {
    "name": "ipython",
    "version": 3
   },
   "file_extension": ".py",
   "mimetype": "text/x-python",
   "name": "python",
   "nbconvert_exporter": "python",
   "pygments_lexer": "ipython3",
   "version": "3.10.9"
  },
  "orig_nbformat": 4
 },
 "nbformat": 4,
 "nbformat_minor": 2
}
